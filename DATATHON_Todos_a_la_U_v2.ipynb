{
  "nbformat": 4,
  "nbformat_minor": 0,
  "metadata": {
    "colab": {
      "provenance": [],
      "toc_visible": true,
      "authorship_tag": "ABX9TyPeoqjcgeNmgess7uTU9Zva",
      "include_colab_link": true
    },
    "kernelspec": {
      "name": "python3",
      "display_name": "Python 3"
    },
    "language_info": {
      "name": "python"
    }
  },
  "cells": [
    {
      "cell_type": "markdown",
      "metadata": {
        "id": "view-in-github",
        "colab_type": "text"
      },
      "source": [
        "<a href=\"https://colab.research.google.com/github/esteban3622/DATATHON---Todos-a-la-U-v2/blob/main/DATATHON_Todos_a_la_U_v2.ipynb\" target=\"_parent\"><img src=\"https://colab.research.google.com/assets/colab-badge.svg\" alt=\"Open In Colab\"/></a>"
      ]
    },
    {
      "cell_type": "markdown",
      "source": [
        "Obj. identificar y seleccionar a las empresas colombianas con más reconocimiento en el país a partir de conocer que se dice de ellas en los medios de comunicación."
      ],
      "metadata": {
        "id": "Cyp4xpjAFyk4"
      }
    },
    {
      "cell_type": "markdown",
      "source": [
        "**El objetivo es identificar *tendencias*, *fechas* y *temáticas* de las noticias con el fin de delimitar el público objetivo y los tópicos a desarrollar en el foro.**"
      ],
      "metadata": {
        "id": "8ZtseQctJDoR"
      }
    },
    {
      "cell_type": "markdown",
      "source": [
        "# Carga de información"
      ],
      "metadata": {
        "id": "BXaFXeWpMkt9"
      }
    },
    {
      "cell_type": "code",
      "source": [
        "# Clonar repositorio desde GitHub\n",
        "! git clone https://github.com/esteban3622/DATATHON---Todos-a-la-U-v2.git"
      ],
      "metadata": {
        "colab": {
          "base_uri": "https://localhost:8080/"
        },
        "id": "XQ4wOdXlJnCC",
        "outputId": "0131c247-424c-4e9e-8024-d91ac49a4f1e"
      },
      "execution_count": null,
      "outputs": [
        {
          "output_type": "stream",
          "name": "stdout",
          "text": [
            "Cloning into 'DATATHON---Todos-a-la-U-v2'...\n",
            "remote: Enumerating objects: 3, done.\u001b[K\n",
            "remote: Counting objects: 100% (3/3), done.\u001b[K\n",
            "remote: Compressing objects: 100% (3/3), done.\u001b[K\n",
            "remote: Total 3 (delta 0), reused 0 (delta 0), pack-reused 0\u001b[K\n",
            "Receiving objects: 100% (3/3), 4.32 MiB | 1.84 MiB/s, done.\n"
          ]
        }
      ]
    },
    {
      "cell_type": "code",
      "source": [
        "import pandas as pd\n",
        "pd.set_option(\"display.max_columns\", None)\n",
        "\n",
        "df = pd.read_csv(r\"DATATHON---Todos-a-la-U-v2/dataset_Caso_Datathon.csv\", encoding= 'utf-8')"
      ],
      "metadata": {
        "id": "7mHRM1rtLK8S"
      },
      "execution_count": null,
      "outputs": []
    },
    {
      "cell_type": "markdown",
      "source": [
        "# Exploración del Dataset"
      ],
      "metadata": {
        "id": "94kN-zRqMotZ"
      }
    },
    {
      "cell_type": "code",
      "source": [
        "df.sample(3)"
      ],
      "metadata": {
        "colab": {
          "base_uri": "https://localhost:8080/",
          "height": 334
        },
        "id": "r1yeV0tcLb8v",
        "outputId": "ba6f8493-c5e3-44ef-c387-53b5873906c0"
      },
      "execution_count": null,
      "outputs": [
        {
          "output_type": "execute_result",
          "data": {
            "text/plain": [
              "                                                 Titulo Fecha Publicacion  \\\n",
              "845                  ¡No existe subsidio a la gasolina!    9/26/2022 0:00   \n",
              "1695                            Empobrécelos y reinarás   10/27/2022 0:00   \n",
              "1769  Gerard Piqué programa visita a sus hijos tras ...    4/19/2023 0:00   \n",
              "\n",
              "                                                Resumen    Empresa     Fuente  \\\n",
              "845                                                 NaN   Netatear    Petefus   \n",
              "1695  Un camino similar al de Chávez parecen estar s...  Diszadiex  Pádinoqui   \n",
              "1769  Shakira ya viajó a Miami para fijar allí su re...      Bagoa  Pádinoqui   \n",
              "\n",
              "                                              Contenido Tags  \\\n",
              "845   Las familias de estratos 1, 2 y 3 pagan sus se...   []   \n",
              "1695  El difunto dictador Hugo Chávez alguna vez señ...  NaN   \n",
              "1769  Era cuestión de tiempo que Shakira abandonara ...  NaN   \n",
              "\n",
              "                      Tema                         Autor Unnamed: 9  \\\n",
              "845            COLUMNISTAS  LUIS GUILLERMO VÉLEZ ÁLVAREZ        NaN   \n",
              "1695           COLUMNISTAS                ALFREDO RANGEL        NaN   \n",
              "1769  FÚTBOL INTERNACIONAL                      DEPORTES        NaN   \n",
              "\n",
              "     Unnamed: 10  \n",
              "845          NaN  \n",
              "1695         NaN  \n",
              "1769         NaN  "
            ],
            "text/html": [
              "\n",
              "  <div id=\"df-502cde1f-5264-498c-9342-bd6371e5e9f4\" class=\"colab-df-container\">\n",
              "    <div>\n",
              "<style scoped>\n",
              "    .dataframe tbody tr th:only-of-type {\n",
              "        vertical-align: middle;\n",
              "    }\n",
              "\n",
              "    .dataframe tbody tr th {\n",
              "        vertical-align: top;\n",
              "    }\n",
              "\n",
              "    .dataframe thead th {\n",
              "        text-align: right;\n",
              "    }\n",
              "</style>\n",
              "<table border=\"1\" class=\"dataframe\">\n",
              "  <thead>\n",
              "    <tr style=\"text-align: right;\">\n",
              "      <th></th>\n",
              "      <th>Titulo</th>\n",
              "      <th>Fecha Publicacion</th>\n",
              "      <th>Resumen</th>\n",
              "      <th>Empresa</th>\n",
              "      <th>Fuente</th>\n",
              "      <th>Contenido</th>\n",
              "      <th>Tags</th>\n",
              "      <th>Tema</th>\n",
              "      <th>Autor</th>\n",
              "      <th>Unnamed: 9</th>\n",
              "      <th>Unnamed: 10</th>\n",
              "    </tr>\n",
              "  </thead>\n",
              "  <tbody>\n",
              "    <tr>\n",
              "      <th>845</th>\n",
              "      <td>¡No existe subsidio a la gasolina!</td>\n",
              "      <td>9/26/2022 0:00</td>\n",
              "      <td>NaN</td>\n",
              "      <td>Netatear</td>\n",
              "      <td>Petefus</td>\n",
              "      <td>Las familias de estratos 1, 2 y 3 pagan sus se...</td>\n",
              "      <td>[]</td>\n",
              "      <td>COLUMNISTAS</td>\n",
              "      <td>LUIS GUILLERMO VÉLEZ ÁLVAREZ</td>\n",
              "      <td>NaN</td>\n",
              "      <td>NaN</td>\n",
              "    </tr>\n",
              "    <tr>\n",
              "      <th>1695</th>\n",
              "      <td>Empobrécelos y reinarás</td>\n",
              "      <td>10/27/2022 0:00</td>\n",
              "      <td>Un camino similar al de Chávez parecen estar s...</td>\n",
              "      <td>Diszadiex</td>\n",
              "      <td>Pádinoqui</td>\n",
              "      <td>El difunto dictador Hugo Chávez alguna vez señ...</td>\n",
              "      <td>NaN</td>\n",
              "      <td>COLUMNISTAS</td>\n",
              "      <td>ALFREDO RANGEL</td>\n",
              "      <td>NaN</td>\n",
              "      <td>NaN</td>\n",
              "    </tr>\n",
              "    <tr>\n",
              "      <th>1769</th>\n",
              "      <td>Gerard Piqué programa visita a sus hijos tras ...</td>\n",
              "      <td>4/19/2023 0:00</td>\n",
              "      <td>Shakira ya viajó a Miami para fijar allí su re...</td>\n",
              "      <td>Bagoa</td>\n",
              "      <td>Pádinoqui</td>\n",
              "      <td>Era cuestión de tiempo que Shakira abandonara ...</td>\n",
              "      <td>NaN</td>\n",
              "      <td>FÚTBOL INTERNACIONAL</td>\n",
              "      <td>DEPORTES</td>\n",
              "      <td>NaN</td>\n",
              "      <td>NaN</td>\n",
              "    </tr>\n",
              "  </tbody>\n",
              "</table>\n",
              "</div>\n",
              "    <div class=\"colab-df-buttons\">\n",
              "\n",
              "  <div class=\"colab-df-container\">\n",
              "    <button class=\"colab-df-convert\" onclick=\"convertToInteractive('df-502cde1f-5264-498c-9342-bd6371e5e9f4')\"\n",
              "            title=\"Convert this dataframe to an interactive table.\"\n",
              "            style=\"display:none;\">\n",
              "\n",
              "  <svg xmlns=\"http://www.w3.org/2000/svg\" height=\"24px\" viewBox=\"0 -960 960 960\">\n",
              "    <path d=\"M120-120v-720h720v720H120Zm60-500h600v-160H180v160Zm220 220h160v-160H400v160Zm0 220h160v-160H400v160ZM180-400h160v-160H180v160Zm440 0h160v-160H620v160ZM180-180h160v-160H180v160Zm440 0h160v-160H620v160Z\"/>\n",
              "  </svg>\n",
              "    </button>\n",
              "\n",
              "  <style>\n",
              "    .colab-df-container {\n",
              "      display:flex;\n",
              "      gap: 12px;\n",
              "    }\n",
              "\n",
              "    .colab-df-convert {\n",
              "      background-color: #E8F0FE;\n",
              "      border: none;\n",
              "      border-radius: 50%;\n",
              "      cursor: pointer;\n",
              "      display: none;\n",
              "      fill: #1967D2;\n",
              "      height: 32px;\n",
              "      padding: 0 0 0 0;\n",
              "      width: 32px;\n",
              "    }\n",
              "\n",
              "    .colab-df-convert:hover {\n",
              "      background-color: #E2EBFA;\n",
              "      box-shadow: 0px 1px 2px rgba(60, 64, 67, 0.3), 0px 1px 3px 1px rgba(60, 64, 67, 0.15);\n",
              "      fill: #174EA6;\n",
              "    }\n",
              "\n",
              "    .colab-df-buttons div {\n",
              "      margin-bottom: 4px;\n",
              "    }\n",
              "\n",
              "    [theme=dark] .colab-df-convert {\n",
              "      background-color: #3B4455;\n",
              "      fill: #D2E3FC;\n",
              "    }\n",
              "\n",
              "    [theme=dark] .colab-df-convert:hover {\n",
              "      background-color: #434B5C;\n",
              "      box-shadow: 0px 1px 3px 1px rgba(0, 0, 0, 0.15);\n",
              "      filter: drop-shadow(0px 1px 2px rgba(0, 0, 0, 0.3));\n",
              "      fill: #FFFFFF;\n",
              "    }\n",
              "  </style>\n",
              "\n",
              "    <script>\n",
              "      const buttonEl =\n",
              "        document.querySelector('#df-502cde1f-5264-498c-9342-bd6371e5e9f4 button.colab-df-convert');\n",
              "      buttonEl.style.display =\n",
              "        google.colab.kernel.accessAllowed ? 'block' : 'none';\n",
              "\n",
              "      async function convertToInteractive(key) {\n",
              "        const element = document.querySelector('#df-502cde1f-5264-498c-9342-bd6371e5e9f4');\n",
              "        const dataTable =\n",
              "          await google.colab.kernel.invokeFunction('convertToInteractive',\n",
              "                                                    [key], {});\n",
              "        if (!dataTable) return;\n",
              "\n",
              "        const docLinkHtml = 'Like what you see? Visit the ' +\n",
              "          '<a target=\"_blank\" href=https://colab.research.google.com/notebooks/data_table.ipynb>data table notebook</a>'\n",
              "          + ' to learn more about interactive tables.';\n",
              "        element.innerHTML = '';\n",
              "        dataTable['output_type'] = 'display_data';\n",
              "        await google.colab.output.renderOutput(dataTable, element);\n",
              "        const docLink = document.createElement('div');\n",
              "        docLink.innerHTML = docLinkHtml;\n",
              "        element.appendChild(docLink);\n",
              "      }\n",
              "    </script>\n",
              "  </div>\n",
              "\n",
              "\n",
              "<div id=\"df-fde1bd8b-fc36-4e4f-95ae-68e294b7e3c5\">\n",
              "  <button class=\"colab-df-quickchart\" onclick=\"quickchart('df-fde1bd8b-fc36-4e4f-95ae-68e294b7e3c5')\"\n",
              "            title=\"Suggest charts\"\n",
              "            style=\"display:none;\">\n",
              "\n",
              "<svg xmlns=\"http://www.w3.org/2000/svg\" height=\"24px\"viewBox=\"0 0 24 24\"\n",
              "     width=\"24px\">\n",
              "    <g>\n",
              "        <path d=\"M19 3H5c-1.1 0-2 .9-2 2v14c0 1.1.9 2 2 2h14c1.1 0 2-.9 2-2V5c0-1.1-.9-2-2-2zM9 17H7v-7h2v7zm4 0h-2V7h2v10zm4 0h-2v-4h2v4z\"/>\n",
              "    </g>\n",
              "</svg>\n",
              "  </button>\n",
              "\n",
              "<style>\n",
              "  .colab-df-quickchart {\n",
              "      --bg-color: #E8F0FE;\n",
              "      --fill-color: #1967D2;\n",
              "      --hover-bg-color: #E2EBFA;\n",
              "      --hover-fill-color: #174EA6;\n",
              "      --disabled-fill-color: #AAA;\n",
              "      --disabled-bg-color: #DDD;\n",
              "  }\n",
              "\n",
              "  [theme=dark] .colab-df-quickchart {\n",
              "      --bg-color: #3B4455;\n",
              "      --fill-color: #D2E3FC;\n",
              "      --hover-bg-color: #434B5C;\n",
              "      --hover-fill-color: #FFFFFF;\n",
              "      --disabled-bg-color: #3B4455;\n",
              "      --disabled-fill-color: #666;\n",
              "  }\n",
              "\n",
              "  .colab-df-quickchart {\n",
              "    background-color: var(--bg-color);\n",
              "    border: none;\n",
              "    border-radius: 50%;\n",
              "    cursor: pointer;\n",
              "    display: none;\n",
              "    fill: var(--fill-color);\n",
              "    height: 32px;\n",
              "    padding: 0;\n",
              "    width: 32px;\n",
              "  }\n",
              "\n",
              "  .colab-df-quickchart:hover {\n",
              "    background-color: var(--hover-bg-color);\n",
              "    box-shadow: 0 1px 2px rgba(60, 64, 67, 0.3), 0 1px 3px 1px rgba(60, 64, 67, 0.15);\n",
              "    fill: var(--button-hover-fill-color);\n",
              "  }\n",
              "\n",
              "  .colab-df-quickchart-complete:disabled,\n",
              "  .colab-df-quickchart-complete:disabled:hover {\n",
              "    background-color: var(--disabled-bg-color);\n",
              "    fill: var(--disabled-fill-color);\n",
              "    box-shadow: none;\n",
              "  }\n",
              "\n",
              "  .colab-df-spinner {\n",
              "    border: 2px solid var(--fill-color);\n",
              "    border-color: transparent;\n",
              "    border-bottom-color: var(--fill-color);\n",
              "    animation:\n",
              "      spin 1s steps(1) infinite;\n",
              "  }\n",
              "\n",
              "  @keyframes spin {\n",
              "    0% {\n",
              "      border-color: transparent;\n",
              "      border-bottom-color: var(--fill-color);\n",
              "      border-left-color: var(--fill-color);\n",
              "    }\n",
              "    20% {\n",
              "      border-color: transparent;\n",
              "      border-left-color: var(--fill-color);\n",
              "      border-top-color: var(--fill-color);\n",
              "    }\n",
              "    30% {\n",
              "      border-color: transparent;\n",
              "      border-left-color: var(--fill-color);\n",
              "      border-top-color: var(--fill-color);\n",
              "      border-right-color: var(--fill-color);\n",
              "    }\n",
              "    40% {\n",
              "      border-color: transparent;\n",
              "      border-right-color: var(--fill-color);\n",
              "      border-top-color: var(--fill-color);\n",
              "    }\n",
              "    60% {\n",
              "      border-color: transparent;\n",
              "      border-right-color: var(--fill-color);\n",
              "    }\n",
              "    80% {\n",
              "      border-color: transparent;\n",
              "      border-right-color: var(--fill-color);\n",
              "      border-bottom-color: var(--fill-color);\n",
              "    }\n",
              "    90% {\n",
              "      border-color: transparent;\n",
              "      border-bottom-color: var(--fill-color);\n",
              "    }\n",
              "  }\n",
              "</style>\n",
              "\n",
              "  <script>\n",
              "    async function quickchart(key) {\n",
              "      const quickchartButtonEl =\n",
              "        document.querySelector('#' + key + ' button');\n",
              "      quickchartButtonEl.disabled = true;  // To prevent multiple clicks.\n",
              "      quickchartButtonEl.classList.add('colab-df-spinner');\n",
              "      try {\n",
              "        const charts = await google.colab.kernel.invokeFunction(\n",
              "            'suggestCharts', [key], {});\n",
              "      } catch (error) {\n",
              "        console.error('Error during call to suggestCharts:', error);\n",
              "      }\n",
              "      quickchartButtonEl.classList.remove('colab-df-spinner');\n",
              "      quickchartButtonEl.classList.add('colab-df-quickchart-complete');\n",
              "    }\n",
              "    (() => {\n",
              "      let quickchartButtonEl =\n",
              "        document.querySelector('#df-fde1bd8b-fc36-4e4f-95ae-68e294b7e3c5 button');\n",
              "      quickchartButtonEl.style.display =\n",
              "        google.colab.kernel.accessAllowed ? 'block' : 'none';\n",
              "    })();\n",
              "  </script>\n",
              "</div>\n",
              "    </div>\n",
              "  </div>\n"
            ]
          },
          "metadata": {},
          "execution_count": 3
        }
      ]
    },
    {
      "cell_type": "code",
      "source": [
        "df.shape"
      ],
      "metadata": {
        "colab": {
          "base_uri": "https://localhost:8080/"
        },
        "id": "ekaF8o6BMSMx",
        "outputId": "18ca96d8-aa0d-43c9-c781-61b2ea7a04ac"
      },
      "execution_count": null,
      "outputs": [
        {
          "output_type": "execute_result",
          "data": {
            "text/plain": [
              "(3618, 11)"
            ]
          },
          "metadata": {},
          "execution_count": 4
        }
      ]
    },
    {
      "cell_type": "code",
      "source": [
        "df.columns"
      ],
      "metadata": {
        "colab": {
          "base_uri": "https://localhost:8080/"
        },
        "id": "iZRdSy2zLhBn",
        "outputId": "b088c746-3f83-4aea-eee1-8ac940ab8703"
      },
      "execution_count": null,
      "outputs": [
        {
          "output_type": "execute_result",
          "data": {
            "text/plain": [
              "Index(['Titulo', 'Fecha Publicacion', 'Resumen', 'Empresa', 'Fuente',\n",
              "       'Contenido', 'Tags', 'Tema', 'Autor', 'Unnamed: 9', 'Unnamed: 10'],\n",
              "      dtype='object')"
            ]
          },
          "metadata": {},
          "execution_count": 5
        }
      ]
    },
    {
      "cell_type": "code",
      "source": [
        "df.info()"
      ],
      "metadata": {
        "colab": {
          "base_uri": "https://localhost:8080/"
        },
        "id": "hsWpA7tJMafs",
        "outputId": "611c114b-25df-441f-940a-07616b31ffa6"
      },
      "execution_count": null,
      "outputs": [
        {
          "output_type": "stream",
          "name": "stdout",
          "text": [
            "<class 'pandas.core.frame.DataFrame'>\n",
            "RangeIndex: 3618 entries, 0 to 3617\n",
            "Data columns (total 11 columns):\n",
            " #   Column             Non-Null Count  Dtype \n",
            "---  ------             --------------  ----- \n",
            " 0   Titulo             3617 non-null   object\n",
            " 1   Fecha Publicacion  3596 non-null   object\n",
            " 2   Resumen            3412 non-null   object\n",
            " 3   Empresa            3616 non-null   object\n",
            " 4   Fuente             3615 non-null   object\n",
            " 5   Contenido          3568 non-null   object\n",
            " 6   Tags               713 non-null    object\n",
            " 7   Tema               3499 non-null   object\n",
            " 8   Autor              3233 non-null   object\n",
            " 9   Unnamed: 9         1 non-null      object\n",
            " 10  Unnamed: 10        1 non-null      object\n",
            "dtypes: object(11)\n",
            "memory usage: 311.0+ KB\n"
          ]
        }
      ]
    },
    {
      "cell_type": "code",
      "source": [
        "df.Empresa.value_counts()"
      ],
      "metadata": {
        "colab": {
          "base_uri": "https://localhost:8080/"
        },
        "id": "9JcCyMs_MzWS",
        "outputId": "2ed08d0b-8986-4aef-fb69-aca641ccad2a"
      },
      "execution_count": null,
      "outputs": [
        {
          "output_type": "execute_result",
          "data": {
            "text/plain": [
              "Rodao                         319\n",
              "Cicadebo                      281\n",
              "Megotiana                     251\n",
              "Bagoa                         249\n",
              "Dofaltachi                    233\n",
              "Cleasidad                     215\n",
              "Mobrelí                       199\n",
              "Cazamalno                     185\n",
              "Raviettibue                   154\n",
              "Pugtofu                       154\n",
              "Cadeem                        142\n",
              "Corelifai                     141\n",
              "Netatear                      135\n",
              "Pristámelo                    130\n",
              "Jogrator                      129\n",
              "Mesepau                       128\n",
              "Ririosísí                     124\n",
              "Soronioqui                    111\n",
              "Diszadiex                      84\n",
              "Refreestor                     67\n",
              "Insema                         62\n",
              "Grisatasrres                   62\n",
              "Feriota                        57\n",
              "Nevaldali                       2\n",
              " Nazareth                       1\n",
              " Santa Marta y Valledupar\"      1\n",
              "Name: Empresa, dtype: int64"
            ]
          },
          "metadata": {},
          "execution_count": 7
        }
      ]
    },
    {
      "cell_type": "code",
      "source": [
        "df.Tema.unique()"
      ],
      "metadata": {
        "colab": {
          "base_uri": "https://localhost:8080/"
        },
        "id": "CPQO1Vd1N3Ls",
        "outputId": "f76045d4-c559-42dd-cee8-862c8d5db76c"
      },
      "execution_count": null,
      "outputs": [
        {
          "output_type": "execute_result",
          "data": {
            "text/plain": [
              "array(['Nación', 'Bolsa', 'Gobierno De Gustavo Petro', 'Bvc', 'Santander',\n",
              "       'Empresas', 'Economia', 'Economía', 'Cicadebo', 'Cápsula', 'Dólar',\n",
              "       'Bancos', 'Transporte', 'Tecnología', 'Capsula', 'Finanzas',\n",
              "       'Política', 'Inflación', 'Pronósticos', 'Financiación',\n",
              "       'Trabajadoras', 'Crecimiento Económico', 'Estafadores', 'Pib', nan,\n",
              "       'Cápsulas', 'Macroeconomía', 'Inversionistas', 'Educación',\n",
              "       'Contenido En Colaboración', 'Especial Bancos', 'Tasas De Interés',\n",
              "       'Sostenibilidad', 'Denuncia', 'Actualidad',\n",
              "       'Especial Empresas Que Construyen País', 'Qatar 2022',\n",
              "       'Servicios Públicos', 'Billeteras Digitales', 'Cadeem',\n",
              "       'Finanzas Personales', 'Trabajo', 'Billeteras Electrónicas',\n",
              "       'Robo', 'Multas De Tránsito', 'Comercio', 'Valle',\n",
              "       'Emprendimiento', 'Contenido en colaboración', 'Campañas De Ayuda',\n",
              "       'Conectividad', 'Salud', 'Empresas Que Construyen País',\n",
              "       'Especial Gran Foro Mujeres', 'Empleo',\n",
              "       'Historias De Transformación', 'Comercio Electrónico', 'Gente',\n",
              "       'Deportes', 'Televisión', 'Farándula', 'Bogotá', 'Opinión',\n",
              "       'Revolución Digital', 'GOBIERNO', 'EMPRESAS', 'SANTANDER',\n",
              "       'CONTENIDO PATROCINADO', 'OTRAS CIUDADES',\n",
              "       'CONFLICTO Y NARCOTRÁFICO', 'SECTORES', 'SECTOR FINANCIERO',\n",
              "       'UNIDAD INVESTIGATIVA', 'COLUMNISTAS', 'CARTAS', 'CARICATURAS',\n",
              "       'MÁS CONTENIDO', 'GENTE', 'LATINOAMÉRICA', 'EUROPA', 'BOGOTÁ',\n",
              "       'CONGRESO', 'RELIGIÓN', 'CINE Y TV', 'EDITORIAL',\n",
              "       'FÚTBOL INTERNACIONAL', 'DISPOSITIVOS', 'SALUD',\n",
              "       'FINANZAS PERSONALES', 'PROCESO DE PAZ', 'MÚSICA Y LIBROS',\n",
              "       'MEDELLÍN', 'CALI', 'ASIA', 'INTERNACIONAL', 'EEUU',\n",
              "       'BARRANQUILLA', 'DELITOS', 'CULTURA', 'NOVEDADES TECNOLOGÍA',\n",
              "       'NEW YORK TIMES INTERNATIONAL WEEKLY', 'INVESTIGACIÓN',\n",
              "       'MÁS REGIONES', 'CICLISMO', 'VIDA', 'AUTOMOVILISMO',\n",
              "       'FÚTBOL COLOMBIANO', 'VENEZUELA', 'ÁFRICA', 'APPS', 'CIENCIA',\n",
              "       'JEP COLOMBIA', 'VIAJAR', 'MASCOTAS', 'CORTES',\n",
              "       'TUTORIALES TECNOLOGÍA', 'ARTE Y TEATRO', 'PARTIDOS POLÍTICOS',\n",
              "       'JUSTICIA', 'EDUCACIÓN', 'SERVICIOS', 'OTROS DEPORTES', 'TENIS',\n",
              "       'COLOMBIA', 'ECONOMÍA', 'MUJERES', 'VIDEOJUEGOS',\n",
              "       'COPA AMÉRICA 2019', 'TENDENCIAS',\n",
              "       ' que han arrasado con algunas placas huellas que se encuentran en los sectores más críticos',\n",
              "       'GASTRONOMÍA', 'MÉXICO', 'MEDIO AMBIENTE', 'EDITORIALES', 'MUNDO',\n",
              "       'ANTIOQUIA', 'LAS MARCAS HABLAN', '#DEESTASALIMOSJUNTOS',\n",
              "       'FINANZAS', 'EL ARRANQUE + ESPECIAL', 'GENERACIÓN', 'POLÍTICA',\n",
              "       'DEPORTES', 'TECNOLOGÍA', 'FÚTBOL', 'PAZ Y DERECHOS HUMANOS',\n",
              "       'FORJADORES', 'ENTRETENIMIENTO', 'TELEVISIÓN', 'LA ENTREVISTA',\n",
              "       'Colombia', 'INFRAESTRUCTURA', 'REVISTA Noarema', 'NEGOCIOS',\n",
              "       'ENERGÍA', 'BOLSAS', 'ANALISTAS', 'COMERCIO', 'FAMILIA',\n",
              "       'LECTURAS DOMINICALES', 'ARCHIVO', 'HISTORIAS Pádinoqui',\n",
              "       'ECONOMICAST', 'DATOS', 'CICLO OLÍMPICO', 'RECETAS',\n",
              "       'MEDIO ORIENTE', 'INNOVACIÓN', 'OPINIÓN', 'INVERSIÓN', 'AHORRO',\n",
              "       'JUBILACIÓN', 'EMPLEO', 'MIS FINANZAS', 'LUJO', 'IMPUESTOS',\n",
              "       'Antioquia', 'INICIO', 'CAP 2: LA HISTORIA DE UNA GESTA', 'MÚSICA',\n",
              "       'EL ARRANQUE', 'AGRO', 'JORGE MARIO VELÁSQUEZ', 'CINE', 'Acciones',\n",
              "       'Mercados', 'Petróleo', 'Industria Petrolera', 'CAJA FUERTE',\n",
              "       'LABORAL', 'VIVIENDA', 'ELECCIONES 2022', 'EMPRENDIMIENTO',\n",
              "       'SEGURIDAD', 'CONTENIDO COMERCIAL'], dtype=object)"
            ]
          },
          "metadata": {},
          "execution_count": 8
        }
      ]
    },
    {
      "cell_type": "code",
      "source": [
        "df.Fuente.unique()"
      ],
      "metadata": {
        "colab": {
          "base_uri": "https://localhost:8080/"
        },
        "id": "J5BGJkUFNnjj",
        "outputId": "c331ab0e-7b34-46eb-a5a3-310e1bfac61f"
      },
      "execution_count": null,
      "outputs": [
        {
          "output_type": "execute_result",
          "data": {
            "text/plain": [
              "array(['Rívenmosa', 'Pádinoqui', ' Puerto Estrella y Punta Espada', nan,\n",
              "       'Petefus', 'Noarema', 'Pensetar', 'Acarcesa'], dtype=object)"
            ]
          },
          "metadata": {},
          "execution_count": 9
        }
      ]
    },
    {
      "cell_type": "markdown",
      "source": [
        "# Ajustes y cambio en el dataset"
      ],
      "metadata": {
        "id": "iW9lV14bOdBg"
      }
    },
    {
      "cell_type": "markdown",
      "source": [
        "## Eliminación de las últimas dos columnas"
      ],
      "metadata": {
        "id": "pWDj07Mkcgxg"
      }
    },
    {
      "cell_type": "code",
      "source": [
        "# Eliminar la columna 'Unnamed: 9' y 'Unnamed: 10'\n",
        "df = df.drop(['Unnamed: 9', 'Unnamed: 10'], axis=1)\n",
        "df.info()"
      ],
      "metadata": {
        "colab": {
          "base_uri": "https://localhost:8080/"
        },
        "id": "bRTEUPP_ck9X",
        "outputId": "6dabbc9e-d53f-4793-917a-9552b2389f28"
      },
      "execution_count": null,
      "outputs": [
        {
          "output_type": "stream",
          "name": "stdout",
          "text": [
            "<class 'pandas.core.frame.DataFrame'>\n",
            "RangeIndex: 3618 entries, 0 to 3617\n",
            "Data columns (total 9 columns):\n",
            " #   Column             Non-Null Count  Dtype \n",
            "---  ------             --------------  ----- \n",
            " 0   Titulo             3617 non-null   object\n",
            " 1   Fecha Publicacion  3596 non-null   object\n",
            " 2   Resumen            3412 non-null   object\n",
            " 3   Empresa            3616 non-null   object\n",
            " 4   Fuente             3615 non-null   object\n",
            " 5   Contenido          3568 non-null   object\n",
            " 6   Tags               713 non-null    object\n",
            " 7   Tema               3499 non-null   object\n",
            " 8   Autor              3233 non-null   object\n",
            "dtypes: object(9)\n",
            "memory usage: 254.5+ KB\n"
          ]
        }
      ]
    },
    {
      "cell_type": "markdown",
      "source": [
        "## Ajustes de la información a partir de la columna 'Fecha de Publicación'"
      ],
      "metadata": {
        "id": "Pe86AG29OgsK"
      }
    },
    {
      "cell_type": "code",
      "source": [
        "# Convertir la columna 'Fecha' a tipo datetime y manejar errores\n",
        "df['Fecha Publicacion'] = pd.to_datetime(df['Fecha Publicacion'], errors='coerce')\n",
        "\n",
        "# Extraer el año, mes y día en columnas separadas\n",
        "df['Anho'] = df['Fecha Publicacion'].dt.year\n",
        "df['Mes'] = df['Fecha Publicacion'].dt.month\n",
        "df['Dia'] = df['Fecha Publicacion'].dt.day"
      ],
      "metadata": {
        "colab": {
          "base_uri": "https://localhost:8080/"
        },
        "id": "_eLsLdW9QzBo",
        "outputId": "a106aee2-7125-4f11-d4bd-25c13778b0e0"
      },
      "execution_count": null,
      "outputs": [
        {
          "output_type": "stream",
          "name": "stderr",
          "text": [
            "<ipython-input-11-50f976a1128c>:2: UserWarning: Parsing dates in DD/MM/YYYY format when dayfirst=False (the default) was specified. This may lead to inconsistently parsed dates! Specify a format to ensure consistent parsing.\n",
            "  df['Fecha Publicacion'] = pd.to_datetime(df['Fecha Publicacion'], errors='coerce')\n"
          ]
        }
      ]
    },
    {
      "cell_type": "code",
      "source": [
        "df.Anho.value_counts().sort_index(ascending=False)"
      ],
      "metadata": {
        "colab": {
          "base_uri": "https://localhost:8080/"
        },
        "id": "vVwpqra0dS-e",
        "outputId": "08497a24-ef01-44a2-fda4-37132540f961"
      },
      "execution_count": null,
      "outputs": [
        {
          "output_type": "execute_result",
          "data": {
            "text/plain": [
              "2024.0       2\n",
              "2023.0    2573\n",
              "2022.0     617\n",
              "2021.0     159\n",
              "2020.0      83\n",
              "2019.0      41\n",
              "2018.0      16\n",
              "2017.0      22\n",
              "2016.0      20\n",
              "2015.0      37\n",
              "2014.0       6\n",
              "2013.0       1\n",
              "2012.0       2\n",
              "2011.0       5\n",
              "2010.0       5\n",
              "2009.0       2\n",
              "2008.0       1\n",
              "2006.0       1\n",
              "1999.0       1\n",
              "Name: Anho, dtype: int64"
            ]
          },
          "metadata": {},
          "execution_count": 12
        }
      ]
    },
    {
      "cell_type": "code",
      "source": [
        "# Eliminar filas donde el valor en la columna 'A' sea menor que 3\n",
        "df = df[df['Anho'] >= 2015]\n",
        "df.info()"
      ],
      "metadata": {
        "colab": {
          "base_uri": "https://localhost:8080/"
        },
        "id": "PcRbnYRHesiV",
        "outputId": "67e875b0-c611-44a4-8213-f2748bcd7391"
      },
      "execution_count": null,
      "outputs": [
        {
          "output_type": "stream",
          "name": "stdout",
          "text": [
            "<class 'pandas.core.frame.DataFrame'>\n",
            "Int64Index: 3570 entries, 0 to 3617\n",
            "Data columns (total 12 columns):\n",
            " #   Column             Non-Null Count  Dtype         \n",
            "---  ------             --------------  -----         \n",
            " 0   Titulo             3570 non-null   object        \n",
            " 1   Fecha Publicacion  3570 non-null   datetime64[ns]\n",
            " 2   Resumen            3396 non-null   object        \n",
            " 3   Empresa            3570 non-null   object        \n",
            " 4   Fuente             3570 non-null   object        \n",
            " 5   Contenido          3522 non-null   object        \n",
            " 6   Tags               711 non-null    object        \n",
            " 7   Tema               3482 non-null   object        \n",
            " 8   Autor              3215 non-null   object        \n",
            " 9   Anho               3570 non-null   float64       \n",
            " 10  Mes                3570 non-null   float64       \n",
            " 11  Dia                3570 non-null   float64       \n",
            "dtypes: datetime64[ns](1), float64(3), object(8)\n",
            "memory usage: 362.6+ KB\n"
          ]
        }
      ]
    },
    {
      "cell_type": "code",
      "source": [
        "df.Anho.value_counts().sort_index(ascending=False)"
      ],
      "metadata": {
        "colab": {
          "base_uri": "https://localhost:8080/"
        },
        "id": "GnD-m36MfBRB",
        "outputId": "609a9f00-6efd-4103-ad4e-7cc829dda222"
      },
      "execution_count": null,
      "outputs": [
        {
          "output_type": "execute_result",
          "data": {
            "text/plain": [
              "2024.0       2\n",
              "2023.0    2573\n",
              "2022.0     617\n",
              "2021.0     159\n",
              "2020.0      83\n",
              "2019.0      41\n",
              "2018.0      16\n",
              "2017.0      22\n",
              "2016.0      20\n",
              "2015.0      37\n",
              "Name: Anho, dtype: int64"
            ]
          },
          "metadata": {},
          "execution_count": 14
        }
      ]
    },
    {
      "cell_type": "markdown",
      "source": [
        "## Ajustes columna de Temas"
      ],
      "metadata": {
        "id": "8bQT2S4-jlvM"
      }
    },
    {
      "cell_type": "code",
      "source": [
        "df.Tema.unique()"
      ],
      "metadata": {
        "colab": {
          "base_uri": "https://localhost:8080/"
        },
        "id": "U7XIbSO1hn1Y",
        "outputId": "a026abaa-bac0-462f-d990-e7061a804057"
      },
      "execution_count": null,
      "outputs": [
        {
          "output_type": "execute_result",
          "data": {
            "text/plain": [
              "array(['Nación', 'Bolsa', 'Gobierno De Gustavo Petro', 'Bvc', 'Santander',\n",
              "       'Empresas', 'Economia', 'Economía', 'Cicadebo', 'Cápsula', 'Dólar',\n",
              "       'Bancos', 'Transporte', 'Tecnología', 'Capsula', 'Finanzas',\n",
              "       'Política', 'Inflación', 'Pronósticos', 'Financiación',\n",
              "       'Trabajadoras', 'Crecimiento Económico', 'Estafadores', 'Pib', nan,\n",
              "       'Cápsulas', 'Macroeconomía', 'Inversionistas', 'Educación',\n",
              "       'Contenido En Colaboración', 'Especial Bancos', 'Tasas De Interés',\n",
              "       'Sostenibilidad', 'Denuncia', 'Actualidad',\n",
              "       'Especial Empresas Que Construyen País', 'Qatar 2022',\n",
              "       'Servicios Públicos', 'Billeteras Digitales', 'Cadeem',\n",
              "       'Finanzas Personales', 'Trabajo', 'Billeteras Electrónicas',\n",
              "       'Robo', 'Multas De Tránsito', 'Comercio', 'Valle',\n",
              "       'Emprendimiento', 'Contenido en colaboración', 'Campañas De Ayuda',\n",
              "       'Conectividad', 'Salud', 'Empresas Que Construyen País',\n",
              "       'Especial Gran Foro Mujeres', 'Empleo',\n",
              "       'Historias De Transformación', 'Comercio Electrónico', 'Gente',\n",
              "       'Deportes', 'Televisión', 'Farándula', 'Bogotá', 'Opinión',\n",
              "       'Revolución Digital', 'GOBIERNO', 'EMPRESAS', 'SANTANDER',\n",
              "       'CONTENIDO PATROCINADO', 'OTRAS CIUDADES',\n",
              "       'CONFLICTO Y NARCOTRÁFICO', 'SECTORES', 'SECTOR FINANCIERO',\n",
              "       'UNIDAD INVESTIGATIVA', 'COLUMNISTAS', 'CARTAS', 'CARICATURAS',\n",
              "       'MÁS CONTENIDO', 'GENTE', 'LATINOAMÉRICA', 'EUROPA', 'BOGOTÁ',\n",
              "       'CONGRESO', 'RELIGIÓN', 'CINE Y TV', 'EDITORIAL',\n",
              "       'FÚTBOL INTERNACIONAL', 'DISPOSITIVOS', 'SALUD',\n",
              "       'FINANZAS PERSONALES', 'PROCESO DE PAZ', 'MÚSICA Y LIBROS',\n",
              "       'MEDELLÍN', 'CALI', 'ASIA', 'INTERNACIONAL', 'EEUU',\n",
              "       'BARRANQUILLA', 'DELITOS', 'CULTURA', 'NOVEDADES TECNOLOGÍA',\n",
              "       'NEW YORK TIMES INTERNATIONAL WEEKLY', 'INVESTIGACIÓN',\n",
              "       'MÁS REGIONES', 'CICLISMO', 'VIDA', 'AUTOMOVILISMO',\n",
              "       'FÚTBOL COLOMBIANO', 'VENEZUELA', 'ÁFRICA', 'APPS', 'CIENCIA',\n",
              "       'JEP COLOMBIA', 'VIAJAR', 'MASCOTAS', 'CORTES',\n",
              "       'TUTORIALES TECNOLOGÍA', 'ARTE Y TEATRO', 'PARTIDOS POLÍTICOS',\n",
              "       'JUSTICIA', 'EDUCACIÓN', 'SERVICIOS', 'OTROS DEPORTES', 'TENIS',\n",
              "       'COLOMBIA', 'ECONOMÍA', 'MUJERES', 'VIDEOJUEGOS',\n",
              "       'COPA AMÉRICA 2019', 'TENDENCIAS', 'GASTRONOMÍA', 'MÉXICO',\n",
              "       'MEDIO AMBIENTE', 'EDITORIALES', 'MUNDO', 'ANTIOQUIA',\n",
              "       'LAS MARCAS HABLAN', '#DEESTASALIMOSJUNTOS', 'FINANZAS',\n",
              "       'EL ARRANQUE + ESPECIAL', 'GENERACIÓN', 'POLÍTICA', 'DEPORTES',\n",
              "       'TECNOLOGÍA', 'FÚTBOL', 'PAZ Y DERECHOS HUMANOS', 'FORJADORES',\n",
              "       'ENTRETENIMIENTO', 'TELEVISIÓN', 'LA ENTREVISTA', 'Colombia',\n",
              "       'INFRAESTRUCTURA', 'REVISTA Noarema', 'NEGOCIOS', 'ENERGÍA',\n",
              "       'BOLSAS', 'ANALISTAS', 'COMERCIO', 'FAMILIA',\n",
              "       'LECTURAS DOMINICALES', 'ARCHIVO', 'HISTORIAS Pádinoqui',\n",
              "       'ECONOMICAST', 'DATOS', 'CICLO OLÍMPICO', 'RECETAS',\n",
              "       'MEDIO ORIENTE', 'INNOVACIÓN', 'OPINIÓN', 'INVERSIÓN', 'AHORRO',\n",
              "       'JUBILACIÓN', 'EMPLEO', 'MIS FINANZAS', 'LUJO', 'IMPUESTOS',\n",
              "       'Antioquia', 'INICIO', 'CAP 2: LA HISTORIA DE UNA GESTA', 'MÚSICA',\n",
              "       'EL ARRANQUE', 'AGRO', 'JORGE MARIO VELÁSQUEZ', 'CINE', 'Acciones',\n",
              "       'Mercados', 'Petróleo', 'Industria Petrolera', 'CAJA FUERTE',\n",
              "       'LABORAL', 'VIVIENDA', 'ELECCIONES 2022', 'EMPRENDIMIENTO',\n",
              "       'SEGURIDAD', 'CONTENIDO COMERCIAL'], dtype=object)"
            ]
          },
          "metadata": {},
          "execution_count": 15
        }
      ]
    },
    {
      "cell_type": "code",
      "source": [
        "pip install unidecode"
      ],
      "metadata": {
        "colab": {
          "base_uri": "https://localhost:8080/"
        },
        "id": "p98eIoE1jqtb",
        "outputId": "f81aba1f-43d2-44cc-9ccd-44f7e5e05c5f"
      },
      "execution_count": null,
      "outputs": [
        {
          "output_type": "stream",
          "name": "stdout",
          "text": [
            "Collecting unidecode\n",
            "  Downloading Unidecode-1.3.7-py3-none-any.whl (235 kB)\n",
            "\u001b[2K     \u001b[90m━━━━━━━━━━━━━━━━━━━━━━━━━━━━━━━━━━━━━━━━\u001b[0m \u001b[32m235.5/235.5 kB\u001b[0m \u001b[31m3.7 MB/s\u001b[0m eta \u001b[36m0:00:00\u001b[0m\n",
            "\u001b[?25hInstalling collected packages: unidecode\n",
            "Successfully installed unidecode-1.3.7\n"
          ]
        }
      ]
    },
    {
      "cell_type": "code",
      "source": [
        "df.dropna(subset=['Tema'], inplace=True)"
      ],
      "metadata": {
        "id": "z6E_sp4Gk7MU"
      },
      "execution_count": null,
      "outputs": []
    },
    {
      "cell_type": "code",
      "source": [
        "import pandas as pd\n",
        "from unidecode import unidecode  # Importar la función unidecode\n",
        "\n",
        "df.dropna(subset=['Tema'], inplace=True)\n",
        "\n",
        "# Aplicar las transformaciones a la columna 'Nombres'\n",
        "df['Tema'] = df['Tema'].str.lower().apply(unidecode)\n",
        "\n",
        "# Imprimir el DataFrame después de las transformaciones\n",
        "print(\"\\nDataFrame después de las transformaciones:\")\n",
        "df.Tema.unique()"
      ],
      "metadata": {
        "colab": {
          "base_uri": "https://localhost:8080/"
        },
        "id": "d9buGS-Bj4dT",
        "outputId": "31c197f8-3e6a-4912-ed50-bb88f43f010b"
      },
      "execution_count": null,
      "outputs": [
        {
          "output_type": "stream",
          "name": "stdout",
          "text": [
            "\n",
            "DataFrame después de las transformaciones:\n"
          ]
        },
        {
          "output_type": "execute_result",
          "data": {
            "text/plain": [
              "array(['nacion', 'bolsa', 'gobierno de gustavo petro', 'bvc', 'santander',\n",
              "       'empresas', 'economia', 'cicadebo', 'capsula', 'dolar', 'bancos',\n",
              "       'transporte', 'tecnologia', 'finanzas', 'politica', 'inflacion',\n",
              "       'pronosticos', 'financiacion', 'trabajadoras',\n",
              "       'crecimiento economico', 'estafadores', 'pib', 'capsulas',\n",
              "       'macroeconomia', 'inversionistas', 'educacion',\n",
              "       'contenido en colaboracion', 'especial bancos', 'tasas de interes',\n",
              "       'sostenibilidad', 'denuncia', 'actualidad',\n",
              "       'especial empresas que construyen pais', 'qatar 2022',\n",
              "       'servicios publicos', 'billeteras digitales', 'cadeem',\n",
              "       'finanzas personales', 'trabajo', 'billeteras electronicas',\n",
              "       'robo', 'multas de transito', 'comercio', 'valle',\n",
              "       'emprendimiento', 'campanas de ayuda', 'conectividad', 'salud',\n",
              "       'empresas que construyen pais', 'especial gran foro mujeres',\n",
              "       'empleo', 'historias de transformacion', 'comercio electronico',\n",
              "       'gente', 'deportes', 'television', 'farandula', 'bogota',\n",
              "       'opinion', 'revolucion digital', 'gobierno',\n",
              "       'contenido patrocinado', 'otras ciudades',\n",
              "       'conflicto y narcotrafico', 'sectores', 'sector financiero',\n",
              "       'unidad investigativa', 'columnistas', 'cartas', 'caricaturas',\n",
              "       'mas contenido', 'latinoamerica', 'europa', 'congreso', 'religion',\n",
              "       'cine y tv', 'editorial', 'futbol internacional', 'dispositivos',\n",
              "       'proceso de paz', 'musica y libros', 'medellin', 'cali', 'asia',\n",
              "       'internacional', 'eeuu', 'barranquilla', 'delitos', 'cultura',\n",
              "       'novedades tecnologia', 'new york times international weekly',\n",
              "       'investigacion', 'mas regiones', 'ciclismo', 'vida',\n",
              "       'automovilismo', 'futbol colombiano', 'venezuela', 'africa',\n",
              "       'apps', 'ciencia', 'jep colombia', 'viajar', 'mascotas', 'cortes',\n",
              "       'tutoriales tecnologia', 'arte y teatro', 'partidos politicos',\n",
              "       'justicia', 'servicios', 'otros deportes', 'tenis', 'colombia',\n",
              "       'mujeres', 'videojuegos', 'copa america 2019', 'tendencias',\n",
              "       'gastronomia', 'mexico', 'medio ambiente', 'editoriales', 'mundo',\n",
              "       'antioquia', 'las marcas hablan', '#deestasalimosjuntos',\n",
              "       'el arranque + especial', 'generacion', 'futbol',\n",
              "       'paz y derechos humanos', 'forjadores', 'entretenimiento',\n",
              "       'la entrevista', 'infraestructura', 'revista noarema', 'negocios',\n",
              "       'energia', 'bolsas', 'analistas', 'familia',\n",
              "       'lecturas dominicales', 'archivo', 'historias padinoqui',\n",
              "       'economicast', 'datos', 'ciclo olimpico', 'recetas',\n",
              "       'medio oriente', 'innovacion', 'inversion', 'ahorro', 'jubilacion',\n",
              "       'mis finanzas', 'lujo', 'impuestos', 'inicio',\n",
              "       'cap 2: la historia de una gesta', 'musica', 'el arranque', 'agro',\n",
              "       'jorge mario velasquez', 'cine', 'acciones', 'mercados',\n",
              "       'petroleo', 'industria petrolera', 'caja fuerte', 'laboral',\n",
              "       'vivienda', 'elecciones 2022', 'seguridad', 'contenido comercial'],\n",
              "      dtype=object)"
            ]
          },
          "metadata": {},
          "execution_count": 18
        }
      ]
    },
    {
      "cell_type": "markdown",
      "source": [
        "## Ajuste con las columnas Resumen y Contenido"
      ],
      "metadata": {
        "id": "2oGz29WBseAb"
      }
    },
    {
      "cell_type": "code",
      "source": [
        "import pandas as pd\n",
        "from unidecode import unidecode  # Importar la función unidecode\n",
        "\n",
        "df.dropna(subset=['Contenido'], inplace=True)\n",
        "df.dropna(subset=['Resumen'], inplace=True)\n",
        "\n",
        "# Aplicar las transformaciones a la columna 'Nombres'\n",
        "df['Resumen'] = df['Resumen'].str.lower().apply(unidecode)\n",
        "df['Contenido'] = df['Contenido'].str.lower().apply(unidecode)"
      ],
      "metadata": {
        "id": "pW1NKn39sShf"
      },
      "execution_count": null,
      "outputs": []
    },
    {
      "cell_type": "code",
      "source": [
        "df.info()"
      ],
      "metadata": {
        "colab": {
          "base_uri": "https://localhost:8080/"
        },
        "id": "FClA8zXCst6-",
        "outputId": "0e729881-42ad-48e5-946e-5e9bfa105d57"
      },
      "execution_count": null,
      "outputs": [
        {
          "output_type": "stream",
          "name": "stdout",
          "text": [
            "<class 'pandas.core.frame.DataFrame'>\n",
            "Int64Index: 3336 entries, 0 to 3617\n",
            "Data columns (total 12 columns):\n",
            " #   Column             Non-Null Count  Dtype         \n",
            "---  ------             --------------  -----         \n",
            " 0   Titulo             3336 non-null   object        \n",
            " 1   Fecha Publicacion  3336 non-null   datetime64[ns]\n",
            " 2   Resumen            3336 non-null   object        \n",
            " 3   Empresa            3336 non-null   object        \n",
            " 4   Fuente             3336 non-null   object        \n",
            " 5   Contenido          3336 non-null   object        \n",
            " 6   Tags               603 non-null    object        \n",
            " 7   Tema               3336 non-null   object        \n",
            " 8   Autor              3048 non-null   object        \n",
            " 9   Anho               3336 non-null   float64       \n",
            " 10  Mes                3336 non-null   float64       \n",
            " 11  Dia                3336 non-null   float64       \n",
            "dtypes: datetime64[ns](1), float64(3), object(8)\n",
            "memory usage: 338.8+ KB\n"
          ]
        }
      ]
    },
    {
      "cell_type": "code",
      "source": [
        "# Contar cuántas veces se repite la palabra 'Python' en la columna 'Tema'\n",
        "palabra_a_contar = 'tecnologia'\n",
        "contador = df['Tema'].str.contains(palabra_a_contar, case=False).sum()\n",
        "\n",
        "# Imprimir el resultado\n",
        "print(f\"\\nLa palabra '{palabra_a_contar}' se repite {contador} veces en la columna 'Tema'.\")"
      ],
      "metadata": {
        "colab": {
          "base_uri": "https://localhost:8080/"
        },
        "id": "S4i81bzRlLRb",
        "outputId": "737830bb-0872-47ab-ab31-52041a53993f"
      },
      "execution_count": null,
      "outputs": [
        {
          "output_type": "stream",
          "name": "stdout",
          "text": [
            "\n",
            "La palabra 'tecnologia' se repite 39 veces en la columna 'Tema'.\n"
          ]
        }
      ]
    },
    {
      "cell_type": "markdown",
      "source": [
        "## Coincidencias de ciertas palabras en las columnas Resumen, Contenido y Temas"
      ],
      "metadata": {
        "id": "wrTuPTNooR1v"
      }
    },
    {
      "cell_type": "code",
      "source": [
        "# import re\n",
        "\n",
        "# texto = \"Python es un lenguaje de programación versátil y potente.\"\n",
        "\n",
        "# # Palabras a buscar\n",
        "# palabras_a_buscar = ['Python', 'programación']\n",
        "\n",
        "# # Utilizando expresiones regulares para buscar las palabras\n",
        "# for palabra in palabras_a_buscar:\n",
        "#     coincidencias = re.findall(r'\\b' + palabra + r'\\b', texto, flags=re.IGNORECASE)\n",
        "#     print(f'La palabra \"{palabra}\" aparece {len(coincidencias)} veces.')\n"
      ],
      "metadata": {
        "id": "zr1-DQq5oVeu"
      },
      "execution_count": null,
      "outputs": []
    },
    {
      "cell_type": "code",
      "source": [
        "import pandas as pd\n",
        "import re\n",
        "\n",
        "# Palabras a buscar\n",
        "palabras_a_buscar = ['tecnologia','innovacion', 'avances']\n",
        "\n",
        "# Utilizando expresiones regulares para buscar las palabras en la columna 'Oraciones'\n",
        "for palabra in palabras_a_buscar:\n",
        "    coincidencias = df['Contenido'].apply(lambda x: len(re.findall(r'\\b' + palabra + r'\\b', x, flags=re.IGNORECASE)))\n",
        "    df[f'{palabra}_coincidencias'] = coincidencias\n",
        "    coincidencias = df['Resumen'].apply(lambda x: len(re.findall(r'\\b' + palabra + r'\\b', x, flags=re.IGNORECASE)))\n",
        "    df[f'{palabra}_coincidencias'] += coincidencias\n",
        "    coincidencias = df['Tema'].apply(lambda x: len(re.findall(r'\\b' + palabra + r'\\b', x, flags=re.IGNORECASE)))\n",
        "    df[f'{palabra}_coincidencias'] += coincidencias\n",
        "\n",
        "# Imprimir el DataFrame con las nuevas columnas de conteo\n",
        "# df.avances_coincidencias.sum()\n",
        "# df.tecnologia_coincidencias.sum()\n",
        "# df.innovacion_coincidencias.sum()\n"
      ],
      "metadata": {
        "id": "oOwB2_F3o58t"
      },
      "execution_count": null,
      "outputs": []
    },
    {
      "cell_type": "code",
      "source": [
        "df.info()"
      ],
      "metadata": {
        "colab": {
          "base_uri": "https://localhost:8080/"
        },
        "id": "wGu9Zg1SuXkM",
        "outputId": "2d84bab3-ab6d-4e79-de93-afd327e27f89"
      },
      "execution_count": null,
      "outputs": [
        {
          "output_type": "stream",
          "name": "stdout",
          "text": [
            "<class 'pandas.core.frame.DataFrame'>\n",
            "Int64Index: 3336 entries, 0 to 3617\n",
            "Data columns (total 15 columns):\n",
            " #   Column                    Non-Null Count  Dtype         \n",
            "---  ------                    --------------  -----         \n",
            " 0   Titulo                    3336 non-null   object        \n",
            " 1   Fecha Publicacion         3336 non-null   datetime64[ns]\n",
            " 2   Resumen                   3336 non-null   object        \n",
            " 3   Empresa                   3336 non-null   object        \n",
            " 4   Fuente                    3336 non-null   object        \n",
            " 5   Contenido                 3336 non-null   object        \n",
            " 6   Tags                      603 non-null    object        \n",
            " 7   Tema                      3336 non-null   object        \n",
            " 8   Autor                     3048 non-null   object        \n",
            " 9   Anho                      3336 non-null   float64       \n",
            " 10  Mes                       3336 non-null   float64       \n",
            " 11  Dia                       3336 non-null   float64       \n",
            " 12  tecnologia_coincidencias  3336 non-null   int64         \n",
            " 13  innovacion_coincidencias  3336 non-null   int64         \n",
            " 14  avances_coincidencias     3336 non-null   int64         \n",
            "dtypes: datetime64[ns](1), float64(3), int64(3), object(8)\n",
            "memory usage: 417.0+ KB\n"
          ]
        }
      ]
    },
    {
      "cell_type": "markdown",
      "source": [
        "# Solución de preguntas"
      ],
      "metadata": {
        "id": "JYl2KD5wx-l5"
      }
    },
    {
      "cell_type": "markdown",
      "source": [
        "Basándose en el impacto mediático de las empresas (densidad de noticias) ¿qué empresas considera que estarían más interesadas en contratar una consultoría para entender lo que se habla de ellas en la prensa? Realice un dashboard que soporte su respuesta."
      ],
      "metadata": {
        "id": "cF2wCPq1yBAv"
      }
    },
    {
      "cell_type": "code",
      "source": [
        "import matplotlib.pyplot as plt\n",
        "import seaborn as sns\n",
        "import pandas as pd\n",
        "\n",
        "# Crear un gráfico de barras horizontales con seaborn\n",
        "sns.countplot(y='Empresa', data=df, palette='pastel')\n",
        "\n",
        "# Agregar etiquetas y título\n",
        "plt.xlabel('Noticias')\n",
        "plt.ylabel('Empresa')\n",
        "plt.title('Gráfico de Barras - Densidad de noticias')\n",
        "\n",
        "# Mostrar el gráfico\n",
        "plt.show()"
      ],
      "metadata": {
        "colab": {
          "base_uri": "https://localhost:8080/",
          "height": 472
        },
        "id": "Ww2kzzNA0Gy9",
        "outputId": "d7e1946e-9a40-4a08-a321-aee14f52887b"
      },
      "execution_count": null,
      "outputs": [
        {
          "output_type": "display_data",
          "data": {
            "text/plain": [
              "<Figure size 640x480 with 1 Axes>"
            ],
            "image/png": "[encoded data removed]"
          },
          "metadata": {}
        }
      ]
    },
    {
      "cell_type": "code",
      "source": [
        "print(f'Valor máximo, cantidad de noticias públicadas por empresa: {df.Empresa.value_counts().max()}')\n",
        "print(f'Valor mínimo, cantidad de noticias públicadas por empresa: {df.Empresa.value_counts().min()}')\n",
        "print(f'Valor de la mediana, cantidad de noticias públicadas por empresa: {df.Empresa.value_counts().median()}')"
      ],
      "metadata": {
        "colab": {
          "base_uri": "https://localhost:8080/"
        },
        "id": "_B4Zkk_81HIn",
        "outputId": "169ccb1f-f5fc-420c-f466-7e2f57da3a98"
      },
      "execution_count": null,
      "outputs": [
        {
          "output_type": "stream",
          "name": "stdout",
          "text": [
            "Valor máximo, cantidad de noticias públicadas por empresa: 314\n",
            "Valor mínimo, cantidad de noticias públicadas por empresa: 2\n",
            "Valor de la mediana, cantidad de noticias públicadas por empresa: 128.0\n"
          ]
        }
      ]
    },
    {
      "cell_type": "code",
      "source": [
        "# Filtrar con frecuencia superior a un valor definido de la mediana\n",
        "df.Empresa.value_counts().sort_values(ascending=False)[df.Empresa.value_counts() > df.Empresa.value_counts().median()]"
      ],
      "metadata": {
        "colab": {
          "base_uri": "https://localhost:8080/"
        },
        "id": "JhAfKpYn1rht",
        "outputId": "e1886dad-48f5-4112-d94c-b7890ee702c9"
      },
      "execution_count": null,
      "outputs": [
        {
          "output_type": "execute_result",
          "data": {
            "text/plain": [
              "Rodao          314\n",
              "Cicadebo       256\n",
              "Megotiana      236\n",
              "Bagoa          221\n",
              "Dofaltachi     218\n",
              "Cleasidad      212\n",
              "Cazamalno      183\n",
              "Mobrelí        179\n",
              "Pugtofu        146\n",
              "Raviettibue    131\n",
              "Cadeem         130\n",
              "Netatear       129\n",
              "Name: Empresa, dtype: int64"
            ]
          },
          "metadata": {},
          "execution_count": 44
        }
      ]
    },
    {
      "cell_type": "markdown",
      "source": [
        "¿Cómo identificaría las empresas que más innovación tecnológica presentan? Desarrolle conceptualmente su respuesta."
      ],
      "metadata": {
        "id": "baso1iHb2581"
      }
    },
    {
      "cell_type": "code",
      "source": [
        "df.info()"
      ],
      "metadata": {
        "colab": {
          "base_uri": "https://localhost:8080/"
        },
        "id": "zWEEL3Yr4Kzj",
        "outputId": "a4dd88b3-5628-42b7-c55c-152cf949c208"
      },
      "execution_count": null,
      "outputs": [
        {
          "output_type": "stream",
          "name": "stdout",
          "text": [
            "<class 'pandas.core.frame.DataFrame'>\n",
            "Int64Index: 3336 entries, 0 to 3617\n",
            "Data columns (total 15 columns):\n",
            " #   Column                    Non-Null Count  Dtype         \n",
            "---  ------                    --------------  -----         \n",
            " 0   Titulo                    3336 non-null   object        \n",
            " 1   Fecha Publicacion         3336 non-null   datetime64[ns]\n",
            " 2   Resumen                   3336 non-null   object        \n",
            " 3   Empresa                   3336 non-null   object        \n",
            " 4   Fuente                    3336 non-null   object        \n",
            " 5   Contenido                 3336 non-null   object        \n",
            " 6   Tags                      603 non-null    object        \n",
            " 7   Tema                      3336 non-null   object        \n",
            " 8   Autor                     3048 non-null   object        \n",
            " 9   Anho                      3336 non-null   float64       \n",
            " 10  Mes                       3336 non-null   float64       \n",
            " 11  Dia                       3336 non-null   float64       \n",
            " 12  tecnologia_coincidencias  3336 non-null   int64         \n",
            " 13  innovacion_coincidencias  3336 non-null   int64         \n",
            " 14  avances_coincidencias     3336 non-null   int64         \n",
            "dtypes: datetime64[ns](1), float64(3), int64(3), object(8)\n",
            "memory usage: 417.0+ KB\n"
          ]
        }
      ]
    },
    {
      "cell_type": "markdown",
      "source": [
        "• Realizar un gráfico que nos permita entender la distribución temporal de las noticias para la empresa ColColombia. ¿Qué podemos inferir del comportamiento de los datos?"
      ],
      "metadata": {
        "id": "VFC0MCYV4fFr"
      }
    },
    {
      "cell_type": "code",
      "source": [
        "import matplotlib.pyplot as plt\n",
        "import seaborn as sns\n",
        "import numpy as np\n",
        "\n",
        "# Configurar estilo de seaborn\n",
        "sns.set(style='whitegrid')\n",
        "\n",
        "# Crear un histograma utilizando seaborn\n",
        "sns.histplot(df.Anho, bins=30, kde=False, color='green')\n",
        "\n",
        "# Agregar etiquetas y título\n",
        "plt.xlabel('Años')\n",
        "plt.ylabel('Cantidad de noticas publicadas')\n",
        "plt.title('Histograma \\n Distribución temporal de las noticias')\n",
        "\n",
        "# Mostrar el histograma\n",
        "plt.show()"
      ],
      "metadata": {
        "colab": {
          "base_uri": "https://localhost:8080/",
          "height": 502
        },
        "id": "T81N23XS4gaa",
        "outputId": "a3efb51a-3f20-41da-9f68-b23f723d43b1"
      },
      "execution_count": null,
      "outputs": [
        {
          "output_type": "display_data",
          "data": {
            "text/plain": [
              "<Figure size 640x480 with 1 Axes>"
            ],
            "image/png": "[encoded data removed]"
          },
          "metadata": {}
        }
      ]
    },
    {
      "cell_type": "markdown",
      "source": [
        "• ¿Qué temáticas podemos encontrar entre febrero y mayo de 2023? Cite al menos dos formas de desarrollar este punto (aparte de la lectura manual). ¿De qué hablan mayoritariamente los artículos? Justifique su respuesta con un gráfico. La columna fuente contiene el nombre del diario que posteó la noticia ¿qué se puede concluir de la distribución de noticias por periódico? Presente un gráfico que ilustre el punto."
      ],
      "metadata": {
        "id": "1Ne-LD9l6clj"
      }
    },
    {
      "cell_type": "code",
      "source": [
        "# Definir el año y los meses específicos a filtrar\n",
        "anio_filtro = 2023\n",
        "mes1_filtro = 2  # Febrero\n",
        "mes2_filtro = 5  # Mayo\n",
        "\n",
        "# Filtrar el DataFrame por año y meses específicos\n",
        "df_filtrado = df.loc[(df['Fecha Publicacion'].dt.year == anio_filtro) & (df['Fecha Publicacion'].dt.month.isin([mes1_filtro, mes2_filtro]))]\n",
        "\n",
        "# Mostrar el DataFrame resultante\n",
        "df_filtrado"
      ],
      "metadata": {
        "colab": {
          "base_uri": "https://localhost:8080/",
          "height": 1000
        },
        "id": "ymmHgK-Z7w2h",
        "outputId": "2b7296ca-7cb3-44f1-ff5b-751b736333c5"
      },
      "execution_count": null,
      "outputs": [
        {
          "output_type": "execute_result",
          "data": {
            "text/plain": [
              "                                                 Titulo Fecha Publicacion  \\\n",
              "135   “Me dejaron sin nada”, periodista de ‘Noticias...        2023-02-20   \n",
              "136   Óscar Rentería llegaría a importante programa ...        2023-02-20   \n",
              "138   “Pronto volveré, pero...”, Óscar Rentería revo...        2023-02-20   \n",
              "139   Así le fue en rating a Dofaltachi TV con ‘Desa...        2023-02-20   \n",
              "140   ¿Quién falleció? ‘Día a día’ encendió velas en...        2023-02-20   \n",
              "...                                                 ...               ...   \n",
              "3566  Utilidades del Grupo Éxito se redujeron 79 % e...        2023-02-27   \n",
              "3567  Así puede comprar boletería en preventa sin es...        2023-02-27   \n",
              "3568  Ventas 'online' llegaron a los $15,1 billones ...        2023-05-05   \n",
              "3569  Pizza Sbarro, la nueva marca que estará en las...        2023-05-03   \n",
              "3570  Lucha ‘al rojo vivo’: disputa de los supermerc...        2023-05-02   \n",
              "\n",
              "                                                Resumen      Empresa  \\\n",
              "135   catalina botero, reconocida corresponsal regio...   Dofaltachi   \n",
              "136   durante las ultimas rivenmosas, el nombre del ...   Dofaltachi   \n",
              "138   el experimentado periodista oscar renteria ha ...   Dofaltachi   \n",
              "139   el regreso del programa, que en 2024 cumple 20...   Dofaltachi   \n",
              "140   dia a dia se ha consolidado como uno de los pr...   Dofaltachi   \n",
              "...                                                 ...          ...   \n",
              "3566  mientras tanto, los ingresos operacionales alc...    Megotiana   \n",
              "3567  grupo aval ofrece esta opcion a traves de su b...    Megotiana   \n",
              "3568  segun el reporte de la camara de comercios ele...  Raviettibue   \n",
              "3569  la expansion inicia dentro de sus tiendas alto...  Raviettibue   \n",
              "3570  los grandes comercios como grupo exito, ara, o...  Raviettibue   \n",
              "\n",
              "         Fuente                                          Contenido  \\\n",
              "135   Rívenmosa  catalina botero, reconocida corresponsal regio...   \n",
              "136   Rívenmosa  durante las ultimas rivenmosas, el nombre del ...   \n",
              "138   Rívenmosa  el experimentado periodista oscar renteria ha ...   \n",
              "139   Rívenmosa  el regreso del programa, que en 2024 cumple 20...   \n",
              "140   Rívenmosa  dia a dia se ha consolidado como uno de los pr...   \n",
              "...         ...                                                ...   \n",
              "3566    Noarema  de acuerdo con el grupo exito sus utilidades s...   \n",
              "3567    Noarema  tras el exito en ventas de las primeras fechas...   \n",
              "3568    Noarema  la camara colombiana de comercio electronico (...   \n",
              "3569    Noarema  la empresa terpel trae al pais la marca de piz...   \n",
              "3570    Noarema  al lado de las estrategias comerciales que han...   \n",
              "\n",
              "                                                   Tags        Tema  \\\n",
              "135   ['Robo', 'Periodista', 'Noticias Dofaltachi', ...       gente   \n",
              "136            ['W Radio', 'Deportes', 'Hernán Peláez']    deportes   \n",
              "138           ['Deportes', 'radio', 'Dofaltachi Radio']    deportes   \n",
              "139        ['Dofaltachi Televisión', 'Desafío The Box']  television   \n",
              "140                     ['Día a Día', 'Luto', 'muerte']       gente   \n",
              "...                                                 ...         ...   \n",
              "3566                                                NaN    empresas   \n",
              "3567                                                NaN  tendencias   \n",
              "3568                                                NaN    empresas   \n",
              "3569                                                NaN    negocios   \n",
              "3570                                                NaN    empresas   \n",
              "\n",
              "                                                Autor    Anho  Mes   Dia  \\\n",
              "135                                               NaN  2023.0  2.0  20.0   \n",
              "136                                               NaN  2023.0  2.0  20.0   \n",
              "138                                               NaN  2023.0  2.0  20.0   \n",
              "139                                               NaN  2023.0  2.0  20.0   \n",
              "140                                               NaN  2023.0  2.0  20.0   \n",
              "...                                               ...     ...  ...   ...   \n",
              "3566                                          Noarema  2023.0  2.0  27.0   \n",
              "3567                                          Noarema  2023.0  2.0  27.0   \n",
              "3568              JOHANA LORDUY\\r\\nPeriodista Noarema  2023.0  5.0   5.0   \n",
              "3569  CONSTANZA GÓMEZ GUASCA\\r\\nPeriodista de Noarema  2023.0  5.0   3.0   \n",
              "3570     CONSTANZA GÓMEZ GUASCA\\r\\nPeriodista Noarema  2023.0  5.0   2.0   \n",
              "\n",
              "      tecnologia_coincidencias  innovacion_coincidencias  \\\n",
              "135                          0                         0   \n",
              "136                          0                         0   \n",
              "138                          0                         0   \n",
              "139                          0                         0   \n",
              "140                          0                         0   \n",
              "...                        ...                       ...   \n",
              "3566                         0                         1   \n",
              "3567                         0                         0   \n",
              "3568                         1                         0   \n",
              "3569                         0                         0   \n",
              "3570                         0                         0   \n",
              "\n",
              "      avances_coincidencias  \n",
              "135                       0  \n",
              "136                       0  \n",
              "138                       0  \n",
              "139                       0  \n",
              "140                       0  \n",
              "...                     ...  \n",
              "3566                      0  \n",
              "3567                      0  \n",
              "3568                      0  \n",
              "3569                      0  \n",
              "3570                      0  \n",
              "\n",
              "[301 rows x 15 columns]"
            ],
            "text/html": [
              "\n",
              "  <div id=\"df-6d456300-79dc-4dbb-8283-bcc260fae836\" class=\"colab-df-container\">\n",
              "    <div>\n",
              "<style scoped>\n",
              "    .dataframe tbody tr th:only-of-type {\n",
              "        vertical-align: middle;\n",
              "    }\n",
              "\n",
              "    .dataframe tbody tr th {\n",
              "        vertical-align: top;\n",
              "    }\n",
              "\n",
              "    .dataframe thead th {\n",
              "        text-align: right;\n",
              "    }\n",
              "</style>\n",
              "<table border=\"1\" class=\"dataframe\">\n",
              "  <thead>\n",
              "    <tr style=\"text-align: right;\">\n",
              "      <th></th>\n",
              "      <th>Titulo</th>\n",
              "      <th>Fecha Publicacion</th>\n",
              "      <th>Resumen</th>\n",
              "      <th>Empresa</th>\n",
              "      <th>Fuente</th>\n",
              "      <th>Contenido</th>\n",
              "      <th>Tags</th>\n",
              "      <th>Tema</th>\n",
              "      <th>Autor</th>\n",
              "      <th>Anho</th>\n",
              "      <th>Mes</th>\n",
              "      <th>Dia</th>\n",
              "      <th>tecnologia_coincidencias</th>\n",
              "      <th>innovacion_coincidencias</th>\n",
              "      <th>avances_coincidencias</th>\n",
              "    </tr>\n",
              "  </thead>\n",
              "  <tbody>\n",
              "    <tr>\n",
              "      <th>135</th>\n",
              "      <td>“Me dejaron sin nada”, periodista de ‘Noticias...</td>\n",
              "      <td>2023-02-20</td>\n",
              "      <td>catalina botero, reconocida corresponsal regio...</td>\n",
              "      <td>Dofaltachi</td>\n",
              "      <td>Rívenmosa</td>\n",
              "      <td>catalina botero, reconocida corresponsal regio...</td>\n",
              "      <td>['Robo', 'Periodista', 'Noticias Dofaltachi', ...</td>\n",
              "      <td>gente</td>\n",
              "      <td>NaN</td>\n",
              "      <td>2023.0</td>\n",
              "      <td>2.0</td>\n",
              "      <td>20.0</td>\n",
              "      <td>0</td>\n",
              "      <td>0</td>\n",
              "      <td>0</td>\n",
              "    </tr>\n",
              "    <tr>\n",
              "      <th>136</th>\n",
              "      <td>Óscar Rentería llegaría a importante programa ...</td>\n",
              "      <td>2023-02-20</td>\n",
              "      <td>durante las ultimas rivenmosas, el nombre del ...</td>\n",
              "      <td>Dofaltachi</td>\n",
              "      <td>Rívenmosa</td>\n",
              "      <td>durante las ultimas rivenmosas, el nombre del ...</td>\n",
              "      <td>['W Radio', 'Deportes', 'Hernán Peláez']</td>\n",
              "      <td>deportes</td>\n",
              "      <td>NaN</td>\n",
              "      <td>2023.0</td>\n",
              "      <td>2.0</td>\n",
              "      <td>20.0</td>\n",
              "      <td>0</td>\n",
              "      <td>0</td>\n",
              "      <td>0</td>\n",
              "    </tr>\n",
              "    <tr>\n",
              "      <th>138</th>\n",
              "      <td>“Pronto volveré, pero...”, Óscar Rentería revo...</td>\n",
              "      <td>2023-02-20</td>\n",
              "      <td>el experimentado periodista oscar renteria ha ...</td>\n",
              "      <td>Dofaltachi</td>\n",
              "      <td>Rívenmosa</td>\n",
              "      <td>el experimentado periodista oscar renteria ha ...</td>\n",
              "      <td>['Deportes', 'radio', 'Dofaltachi Radio']</td>\n",
              "      <td>deportes</td>\n",
              "      <td>NaN</td>\n",
              "      <td>2023.0</td>\n",
              "      <td>2.0</td>\n",
              "      <td>20.0</td>\n",
              "      <td>0</td>\n",
              "      <td>0</td>\n",
              "      <td>0</td>\n",
              "    </tr>\n",
              "    <tr>\n",
              "      <th>139</th>\n",
              "      <td>Así le fue en rating a Dofaltachi TV con ‘Desa...</td>\n",
              "      <td>2023-02-20</td>\n",
              "      <td>el regreso del programa, que en 2024 cumple 20...</td>\n",
              "      <td>Dofaltachi</td>\n",
              "      <td>Rívenmosa</td>\n",
              "      <td>el regreso del programa, que en 2024 cumple 20...</td>\n",
              "      <td>['Dofaltachi Televisión', 'Desafío The Box']</td>\n",
              "      <td>television</td>\n",
              "      <td>NaN</td>\n",
              "      <td>2023.0</td>\n",
              "      <td>2.0</td>\n",
              "      <td>20.0</td>\n",
              "      <td>0</td>\n",
              "      <td>0</td>\n",
              "      <td>0</td>\n",
              "    </tr>\n",
              "    <tr>\n",
              "      <th>140</th>\n",
              "      <td>¿Quién falleció? ‘Día a día’ encendió velas en...</td>\n",
              "      <td>2023-02-20</td>\n",
              "      <td>dia a dia se ha consolidado como uno de los pr...</td>\n",
              "      <td>Dofaltachi</td>\n",
              "      <td>Rívenmosa</td>\n",
              "      <td>dia a dia se ha consolidado como uno de los pr...</td>\n",
              "      <td>['Día a Día', 'Luto', 'muerte']</td>\n",
              "      <td>gente</td>\n",
              "      <td>NaN</td>\n",
              "      <td>2023.0</td>\n",
              "      <td>2.0</td>\n",
              "      <td>20.0</td>\n",
              "      <td>0</td>\n",
              "      <td>0</td>\n",
              "      <td>0</td>\n",
              "    </tr>\n",
              "    <tr>\n",
              "      <th>...</th>\n",
              "      <td>...</td>\n",
              "      <td>...</td>\n",
              "      <td>...</td>\n",
              "      <td>...</td>\n",
              "      <td>...</td>\n",
              "      <td>...</td>\n",
              "      <td>...</td>\n",
              "      <td>...</td>\n",
              "      <td>...</td>\n",
              "      <td>...</td>\n",
              "      <td>...</td>\n",
              "      <td>...</td>\n",
              "      <td>...</td>\n",
              "      <td>...</td>\n",
              "      <td>...</td>\n",
              "    </tr>\n",
              "    <tr>\n",
              "      <th>3566</th>\n",
              "      <td>Utilidades del Grupo Éxito se redujeron 79 % e...</td>\n",
              "      <td>2023-02-27</td>\n",
              "      <td>mientras tanto, los ingresos operacionales alc...</td>\n",
              "      <td>Megotiana</td>\n",
              "      <td>Noarema</td>\n",
              "      <td>de acuerdo con el grupo exito sus utilidades s...</td>\n",
              "      <td>NaN</td>\n",
              "      <td>empresas</td>\n",
              "      <td>Noarema</td>\n",
              "      <td>2023.0</td>\n",
              "      <td>2.0</td>\n",
              "      <td>27.0</td>\n",
              "      <td>0</td>\n",
              "      <td>1</td>\n",
              "      <td>0</td>\n",
              "    </tr>\n",
              "    <tr>\n",
              "      <th>3567</th>\n",
              "      <td>Así puede comprar boletería en preventa sin es...</td>\n",
              "      <td>2023-02-27</td>\n",
              "      <td>grupo aval ofrece esta opcion a traves de su b...</td>\n",
              "      <td>Megotiana</td>\n",
              "      <td>Noarema</td>\n",
              "      <td>tras el exito en ventas de las primeras fechas...</td>\n",
              "      <td>NaN</td>\n",
              "      <td>tendencias</td>\n",
              "      <td>Noarema</td>\n",
              "      <td>2023.0</td>\n",
              "      <td>2.0</td>\n",
              "      <td>27.0</td>\n",
              "      <td>0</td>\n",
              "      <td>0</td>\n",
              "      <td>0</td>\n",
              "    </tr>\n",
              "    <tr>\n",
              "      <th>3568</th>\n",
              "      <td>Ventas 'online' llegaron a los $15,1 billones ...</td>\n",
              "      <td>2023-05-05</td>\n",
              "      <td>segun el reporte de la camara de comercios ele...</td>\n",
              "      <td>Raviettibue</td>\n",
              "      <td>Noarema</td>\n",
              "      <td>la camara colombiana de comercio electronico (...</td>\n",
              "      <td>NaN</td>\n",
              "      <td>empresas</td>\n",
              "      <td>JOHANA LORDUY\\r\\nPeriodista Noarema</td>\n",
              "      <td>2023.0</td>\n",
              "      <td>5.0</td>\n",
              "      <td>5.0</td>\n",
              "      <td>1</td>\n",
              "      <td>0</td>\n",
              "      <td>0</td>\n",
              "    </tr>\n",
              "    <tr>\n",
              "      <th>3569</th>\n",
              "      <td>Pizza Sbarro, la nueva marca que estará en las...</td>\n",
              "      <td>2023-05-03</td>\n",
              "      <td>la expansion inicia dentro de sus tiendas alto...</td>\n",
              "      <td>Raviettibue</td>\n",
              "      <td>Noarema</td>\n",
              "      <td>la empresa terpel trae al pais la marca de piz...</td>\n",
              "      <td>NaN</td>\n",
              "      <td>negocios</td>\n",
              "      <td>CONSTANZA GÓMEZ GUASCA\\r\\nPeriodista de Noarema</td>\n",
              "      <td>2023.0</td>\n",
              "      <td>5.0</td>\n",
              "      <td>3.0</td>\n",
              "      <td>0</td>\n",
              "      <td>0</td>\n",
              "      <td>0</td>\n",
              "    </tr>\n",
              "    <tr>\n",
              "      <th>3570</th>\n",
              "      <td>Lucha ‘al rojo vivo’: disputa de los supermerc...</td>\n",
              "      <td>2023-05-02</td>\n",
              "      <td>los grandes comercios como grupo exito, ara, o...</td>\n",
              "      <td>Raviettibue</td>\n",
              "      <td>Noarema</td>\n",
              "      <td>al lado de las estrategias comerciales que han...</td>\n",
              "      <td>NaN</td>\n",
              "      <td>empresas</td>\n",
              "      <td>CONSTANZA GÓMEZ GUASCA\\r\\nPeriodista Noarema</td>\n",
              "      <td>2023.0</td>\n",
              "      <td>5.0</td>\n",
              "      <td>2.0</td>\n",
              "      <td>0</td>\n",
              "      <td>0</td>\n",
              "      <td>0</td>\n",
              "    </tr>\n",
              "  </tbody>\n",
              "</table>\n",
              "<p>301 rows × 15 columns</p>\n",
              "</div>\n",
              "    <div class=\"colab-df-buttons\">\n",
              "\n",
              "  <div class=\"colab-df-container\">\n",
              "    <button class=\"colab-df-convert\" onclick=\"convertToInteractive('df-6d456300-79dc-4dbb-8283-bcc260fae836')\"\n",
              "            title=\"Convert this dataframe to an interactive table.\"\n",
              "            style=\"display:none;\">\n",
              "\n",
              "  <svg xmlns=\"http://www.w3.org/2000/svg\" height=\"24px\" viewBox=\"0 -960 960 960\">\n",
              "    <path d=\"M120-120v-720h720v720H120Zm60-500h600v-160H180v160Zm220 220h160v-160H400v160Zm0 220h160v-160H400v160ZM180-400h160v-160H180v160Zm440 0h160v-160H620v160ZM180-180h160v-160H180v160Zm440 0h160v-160H620v160Z\"/>\n",
              "  </svg>\n",
              "    </button>\n",
              "\n",
              "  <style>\n",
              "    .colab-df-container {\n",
              "      display:flex;\n",
              "      gap: 12px;\n",
              "    }\n",
              "\n",
              "    .colab-df-convert {\n",
              "      background-color: #E8F0FE;\n",
              "      border: none;\n",
              "      border-radius: 50%;\n",
              "      cursor: pointer;\n",
              "      display: none;\n",
              "      fill: #1967D2;\n",
              "      height: 32px;\n",
              "      padding: 0 0 0 0;\n",
              "      width: 32px;\n",
              "    }\n",
              "\n",
              "    .colab-df-convert:hover {\n",
              "      background-color: #E2EBFA;\n",
              "      box-shadow: 0px 1px 2px rgba(60, 64, 67, 0.3), 0px 1px 3px 1px rgba(60, 64, 67, 0.15);\n",
              "      fill: #174EA6;\n",
              "    }\n",
              "\n",
              "    .colab-df-buttons div {\n",
              "      margin-bottom: 4px;\n",
              "    }\n",
              "\n",
              "    [theme=dark] .colab-df-convert {\n",
              "      background-color: #3B4455;\n",
              "      fill: #D2E3FC;\n",
              "    }\n",
              "\n",
              "    [theme=dark] .colab-df-convert:hover {\n",
              "      background-color: #434B5C;\n",
              "      box-shadow: 0px 1px 3px 1px rgba(0, 0, 0, 0.15);\n",
              "      filter: drop-shadow(0px 1px 2px rgba(0, 0, 0, 0.3));\n",
              "      fill: #FFFFFF;\n",
              "    }\n",
              "  </style>\n",
              "\n",
              "    <script>\n",
              "      const buttonEl =\n",
              "        document.querySelector('#df-6d456300-79dc-4dbb-8283-bcc260fae836 button.colab-df-convert');\n",
              "      buttonEl.style.display =\n",
              "        google.colab.kernel.accessAllowed ? 'block' : 'none';\n",
              "\n",
              "      async function convertToInteractive(key) {\n",
              "        const element = document.querySelector('#df-6d456300-79dc-4dbb-8283-bcc260fae836');\n",
              "        const dataTable =\n",
              "          await google.colab.kernel.invokeFunction('convertToInteractive',\n",
              "                                                    [key], {});\n",
              "        if (!dataTable) return;\n",
              "\n",
              "        const docLinkHtml = 'Like what you see? Visit the ' +\n",
              "          '<a target=\"_blank\" href=https://colab.research.google.com/notebooks/data_table.ipynb>data table notebook</a>'\n",
              "          + ' to learn more about interactive tables.';\n",
              "        element.innerHTML = '';\n",
              "        dataTable['output_type'] = 'display_data';\n",
              "        await google.colab.output.renderOutput(dataTable, element);\n",
              "        const docLink = document.createElement('div');\n",
              "        docLink.innerHTML = docLinkHtml;\n",
              "        element.appendChild(docLink);\n",
              "      }\n",
              "    </script>\n",
              "  </div>\n",
              "\n",
              "\n",
              "<div id=\"df-b019f106-4e22-47f6-ba5a-6e7304bc91cc\">\n",
              "  <button class=\"colab-df-quickchart\" onclick=\"quickchart('df-b019f106-4e22-47f6-ba5a-6e7304bc91cc')\"\n",
              "            title=\"Suggest charts\"\n",
              "            style=\"display:none;\">\n",
              "\n",
              "<svg xmlns=\"http://www.w3.org/2000/svg\" height=\"24px\"viewBox=\"0 0 24 24\"\n",
              "     width=\"24px\">\n",
              "    <g>\n",
              "        <path d=\"M19 3H5c-1.1 0-2 .9-2 2v14c0 1.1.9 2 2 2h14c1.1 0 2-.9 2-2V5c0-1.1-.9-2-2-2zM9 17H7v-7h2v7zm4 0h-2V7h2v10zm4 0h-2v-4h2v4z\"/>\n",
              "    </g>\n",
              "</svg>\n",
              "  </button>\n",
              "\n",
              "<style>\n",
              "  .colab-df-quickchart {\n",
              "      --bg-color: #E8F0FE;\n",
              "      --fill-color: #1967D2;\n",
              "      --hover-bg-color: #E2EBFA;\n",
              "      --hover-fill-color: #174EA6;\n",
              "      --disabled-fill-color: #AAA;\n",
              "      --disabled-bg-color: #DDD;\n",
              "  }\n",
              "\n",
              "  [theme=dark] .colab-df-quickchart {\n",
              "      --bg-color: #3B4455;\n",
              "      --fill-color: #D2E3FC;\n",
              "      --hover-bg-color: #434B5C;\n",
              "      --hover-fill-color: #FFFFFF;\n",
              "      --disabled-bg-color: #3B4455;\n",
              "      --disabled-fill-color: #666;\n",
              "  }\n",
              "\n",
              "  .colab-df-quickchart {\n",
              "    background-color: var(--bg-color);\n",
              "    border: none;\n",
              "    border-radius: 50%;\n",
              "    cursor: pointer;\n",
              "    display: none;\n",
              "    fill: var(--fill-color);\n",
              "    height: 32px;\n",
              "    padding: 0;\n",
              "    width: 32px;\n",
              "  }\n",
              "\n",
              "  .colab-df-quickchart:hover {\n",
              "    background-color: var(--hover-bg-color);\n",
              "    box-shadow: 0 1px 2px rgba(60, 64, 67, 0.3), 0 1px 3px 1px rgba(60, 64, 67, 0.15);\n",
              "    fill: var(--button-hover-fill-color);\n",
              "  }\n",
              "\n",
              "  .colab-df-quickchart-complete:disabled,\n",
              "  .colab-df-quickchart-complete:disabled:hover {\n",
              "    background-color: var(--disabled-bg-color);\n",
              "    fill: var(--disabled-fill-color);\n",
              "    box-shadow: none;\n",
              "  }\n",
              "\n",
              "  .colab-df-spinner {\n",
              "    border: 2px solid var(--fill-color);\n",
              "    border-color: transparent;\n",
              "    border-bottom-color: var(--fill-color);\n",
              "    animation:\n",
              "      spin 1s steps(1) infinite;\n",
              "  }\n",
              "\n",
              "  @keyframes spin {\n",
              "    0% {\n",
              "      border-color: transparent;\n",
              "      border-bottom-color: var(--fill-color);\n",
              "      border-left-color: var(--fill-color);\n",
              "    }\n",
              "    20% {\n",
              "      border-color: transparent;\n",
              "      border-left-color: var(--fill-color);\n",
              "      border-top-color: var(--fill-color);\n",
              "    }\n",
              "    30% {\n",
              "      border-color: transparent;\n",
              "      border-left-color: var(--fill-color);\n",
              "      border-top-color: var(--fill-color);\n",
              "      border-right-color: var(--fill-color);\n",
              "    }\n",
              "    40% {\n",
              "      border-color: transparent;\n",
              "      border-right-color: var(--fill-color);\n",
              "      border-top-color: var(--fill-color);\n",
              "    }\n",
              "    60% {\n",
              "      border-color: transparent;\n",
              "      border-right-color: var(--fill-color);\n",
              "    }\n",
              "    80% {\n",
              "      border-color: transparent;\n",
              "      border-right-color: var(--fill-color);\n",
              "      border-bottom-color: var(--fill-color);\n",
              "    }\n",
              "    90% {\n",
              "      border-color: transparent;\n",
              "      border-bottom-color: var(--fill-color);\n",
              "    }\n",
              "  }\n",
              "</style>\n",
              "\n",
              "  <script>\n",
              "    async function quickchart(key) {\n",
              "      const quickchartButtonEl =\n",
              "        document.querySelector('#' + key + ' button');\n",
              "      quickchartButtonEl.disabled = true;  // To prevent multiple clicks.\n",
              "      quickchartButtonEl.classList.add('colab-df-spinner');\n",
              "      try {\n",
              "        const charts = await google.colab.kernel.invokeFunction(\n",
              "            'suggestCharts', [key], {});\n",
              "      } catch (error) {\n",
              "        console.error('Error during call to suggestCharts:', error);\n",
              "      }\n",
              "      quickchartButtonEl.classList.remove('colab-df-spinner');\n",
              "      quickchartButtonEl.classList.add('colab-df-quickchart-complete');\n",
              "    }\n",
              "    (() => {\n",
              "      let quickchartButtonEl =\n",
              "        document.querySelector('#df-b019f106-4e22-47f6-ba5a-6e7304bc91cc button');\n",
              "      quickchartButtonEl.style.display =\n",
              "        google.colab.kernel.accessAllowed ? 'block' : 'none';\n",
              "    })();\n",
              "  </script>\n",
              "</div>\n",
              "    </div>\n",
              "  </div>\n"
            ]
          },
          "metadata": {},
          "execution_count": 56
        }
      ]
    },
    {
      "cell_type": "code",
      "source": [
        "import matplotlib.pyplot as plt\n",
        "import seaborn as sns\n",
        "import pandas as pd\n",
        "\n",
        "# Crear un gráfico de barras horizontales con seaborn\n",
        "sns.countplot(y='Tema', data=df_filtrado)\n",
        "\n",
        "# Agregar etiquetas y título\n",
        "plt.xlabel('Noticias publicadas')\n",
        "plt.ylabel('Tema')\n",
        "plt.title('Gráfico de Barras - Noticias publicadas por Temas \\n En el mes de Feb y May del año 2023')\n",
        "\n",
        "# Mostrar el gráfico\n",
        "plt.show()"
      ],
      "metadata": {
        "colab": {
          "base_uri": "https://localhost:8080/",
          "height": 501
        },
        "id": "V_YFBWUh81I5",
        "outputId": "e5af6c3e-329d-4e0c-8846-0f738e08e805"
      },
      "execution_count": null,
      "outputs": [
        {
          "output_type": "display_data",
          "data": {
            "text/plain": [
              "<Figure size 640x480 with 1 Axes>"
            ],
            "image/png": "[encoded data removed]"
          },
          "metadata": {}
        }
      ]
    },
    {
      "cell_type": "code",
      "source": [
        "# Filtrar con frecuencia superior a un valor definido de la mediana\n",
        "df_filtrado.Tema.value_counts().sort_values(ascending=False)[df_filtrado.Tema.value_counts() > 10]"
      ],
      "metadata": {
        "colab": {
          "base_uri": "https://localhost:8080/"
        },
        "id": "BwgjBo-D9Xw7",
        "outputId": "0b69f0d2-4f6d-483a-9da9-51df723f203c"
      },
      "execution_count": null,
      "outputs": [
        {
          "output_type": "execute_result",
          "data": {
            "text/plain": [
              "empresas    78\n",
              "economia    64\n",
              "finanzas    33\n",
              "negocios    11\n",
              "Name: Tema, dtype: int64"
            ]
          },
          "metadata": {},
          "execution_count": 60
        }
      ]
    },
    {
      "cell_type": "code",
      "source": [],
      "metadata": {
        "id": "LJr_CyEN94vJ"
      },
      "execution_count": null,
      "outputs": []
    },
    {
      "cell_type": "code",
      "source": [
        "import matplotlib.pyplot as plt\n",
        "import seaborn as sns\n",
        "import pandas as pd\n",
        "\n",
        "# Crear un gráfico de barras horizontales con seaborn\n",
        "sns.countplot(y='Fuente', data=df, palette='pastel')\n",
        "\n",
        "# Agregar etiquetas y título\n",
        "plt.xlabel('Noticias publicadas')\n",
        "plt.ylabel('Fuente')\n",
        "plt.title('Gráfico de Barras - Noticias publicadas por periódico')\n",
        "\n",
        "# Mostrar el gráfico\n",
        "plt.show()"
      ],
      "metadata": {
        "colab": {
          "base_uri": "https://localhost:8080/",
          "height": 481
        },
        "id": "nyRoOnjM7KYD",
        "outputId": "b24fd547-72b7-4d6c-d0f7-91bab69f3cd3"
      },
      "execution_count": null,
      "outputs": [
        {
          "output_type": "display_data",
          "data": {
            "text/plain": [
              "<Figure size 640x480 with 1 Axes>"
            ],
            "image/png": "[encoded data removed]"
          },
          "metadata": {}
        }
      ]
    },
    {
      "cell_type": "code",
      "source": [],
      "metadata": {
        "id": "HtvTr86f7LeC"
      },
      "execution_count": null,
      "outputs": []
    },
    {
      "cell_type": "code",
      "source": [],
      "metadata": {
        "id": "62gid4y07Ll5"
      },
      "execution_count": null,
      "outputs": []
    },
    {
      "cell_type": "code",
      "source": [
        "import pandas as pd\n",
        "\n",
        "# Crear un DataFrame de ejemplo\n",
        "datos = {'Grupo': ['A', 'B', 'A', 'B', 'A', 'B'],\n",
        "         'Valor': [10, 20, 15, 25, 12, 18]}\n",
        "\n",
        "df = pd.DataFrame(datos)\n",
        "\n",
        "# Imprimir el DataFrame original\n",
        "print(\"DataFrame original:\")\n",
        "print(df)\n",
        "\n",
        "# Utilizar groupby para agrupar por la columna 'Grupo' y calcular la media para cada grupo\n",
        "grupo_promedio = df.groupby('Grupo')['Valor'].mean().reset_index()\n",
        "\n",
        "# Imprimir el resultado\n",
        "print(\"\\nResultado después de groupby y cálculo de la media:\")\n",
        "print(grupo_promedio)\n"
      ],
      "metadata": {
        "id": "gyQURpE-6hwy"
      },
      "execution_count": null,
      "outputs": []
    },
    {
      "cell_type": "markdown",
      "source": [
        "a. ¿En qué temas de tendencia tecnológicos consideran que estarían interesadas las empresas más grandes del país?"
      ],
      "metadata": {
        "id": "NJeLWZLa--uC"
      }
    },
    {
      "cell_type": "code",
      "source": [],
      "metadata": {
        "id": "YE1spFsq_Cvw"
      },
      "execution_count": null,
      "outputs": []
    }
  ]
}